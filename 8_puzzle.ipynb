{
  "nbformat": 4,
  "nbformat_minor": 0,
  "metadata": {
    "colab": {
      "provenance": [],
      "include_colab_link": true
    },
    "kernelspec": {
      "name": "python3",
      "display_name": "Python 3"
    },
    "language_info": {
      "name": "python"
    }
  },
  "cells": [
    {
      "cell_type": "markdown",
      "metadata": {
        "id": "view-in-github",
        "colab_type": "text"
      },
      "source": [
        "<a href=\"https://colab.research.google.com/github/yeshitha-kuppireddy/workshop/blob/main/8_puzzle.ipynb\" target=\"_parent\"><img src=\"https://colab.research.google.com/assets/colab-badge.svg\" alt=\"Open In Colab\"/></a>"
      ]
    },
    {
      "cell_type": "code",
      "execution_count": 1,
      "metadata": {
        "colab": {
          "base_uri": "https://localhost:8080/"
        },
        "id": "r3iXXBNJm4Ki",
        "outputId": "d00d9691-87ac-4c9a-bfc1-53f80374259d"
      },
      "outputs": [
        {
          "output_type": "stream",
          "name": "stdout",
          "text": [
            "Collecting simpleai\n",
            "  Downloading simpleai-0.8.3.tar.gz (94 kB)\n",
            "\u001b[2K     \u001b[90m━━━━━━━━━━━━━━━━━━━━━━━━━━━━━━━━━━━━━━━━\u001b[0m \u001b[32m94.4/94.4 kB\u001b[0m \u001b[31m1.3 MB/s\u001b[0m eta \u001b[36m0:00:00\u001b[0m\n",
            "\u001b[?25h  Preparing metadata (setup.py) ... \u001b[?25l\u001b[?25hdone\n",
            "Building wheels for collected packages: simpleai\n",
            "  Building wheel for simpleai (setup.py) ... \u001b[?25l\u001b[?25hdone\n",
            "  Created wheel for simpleai: filename=simpleai-0.8.3-py3-none-any.whl size=100985 sha256=2ac1e727e98b9c3059a20a0588c85241576e1c1ab0110c4e2bfc4d0bbb352a8d\n",
            "  Stored in directory: /root/.cache/pip/wheels/91/0c/38/421d7910e7bc59b97fc54f490808bdb1097607d83d1a592865\n",
            "Successfully built simpleai\n",
            "Installing collected packages: simpleai\n",
            "Successfully installed simpleai-0.8.3\n"
          ]
        }
      ],
      "source": [
        "!pip install simpleai"
      ]
    },
    {
      "cell_type": "code",
      "source": [
        "from simpleai.search import astar, SearchProblem\n",
        "\n",
        "class PuzzleSolver(SearchProblem):\n",
        "\n",
        "    def actions(self, cur_state):\n",
        "        rows = string_to_list(cur_state)\n",
        "        row_empty, col_empty = get_location(rows, 'e')\n",
        "        actions = []\n",
        "        if row_empty > 0:\n",
        "            actions.append(rows[row_empty - 1][col_empty])\n",
        "        if row_empty < 2:\n",
        "            actions.append(rows[row_empty + 1][col_empty])\n",
        "        if col_empty > 0:\n",
        "            actions.append(rows[row_empty][col_empty - 1])\n",
        "        if col_empty < 2:\n",
        "            actions.append(rows[row_empty][col_empty + 1])\n",
        "        return actions\n",
        "\n",
        "    def result(self, state, action):\n",
        "        rows = string_to_list(state)\n",
        "        row_empty, col_empty = get_location(rows, 'e')\n",
        "        row_new, col_new = get_location(rows, action)\n",
        "        rows[row_empty][col_empty], rows[row_new][col_new] = rows[row_new][col_new], rows[row_empty][col_empty]\n",
        "        return list_to_string(rows)\n",
        "\n",
        "    def is_goal(self, state):\n",
        "        return state == GOAL\n",
        "\n",
        "    def heuristic(self, state):\n",
        "        rows = string_to_list(state)\n",
        "        distance = 0\n",
        "        for number in '12345678e':\n",
        "            row_new, col_new = get_location(rows, number)\n",
        "            row_new_goal, col_new_goal = goal_positions[number]\n",
        "            distance += abs(row_new - row_new_goal) + abs(col_new - col_new_goal)\n",
        "        return distance\n",
        "\n",
        "def list_to_string(input_list):\n",
        "    return '\\n'.join(['-'.join(x) for x in input_list])\n",
        "\n",
        "def string_to_list(input_string):\n",
        "    return [x.split('-') for x in input_string.split('\\n')]\n",
        "\n",
        "def get_location(rows, input_element):\n",
        "    for i, row in enumerate(rows):\n",
        "        for j, item in enumerate(row):\n",
        "            if item == input_element:\n",
        "                return i, j\n",
        "\n",
        "GOAL = '''1-2-3\n",
        "8-e-4\n",
        "7-6-5'''\n",
        "\n",
        "INITIAL = '''2-8-3\n",
        "1-6-4\n",
        "7-e-5'''\n",
        "\n",
        "goal_positions = {}\n",
        "rows_goal = string_to_list(GOAL)\n",
        "for number in '12345678e':\n",
        "    goal_positions[number] = get_location(rows_goal, number)\n",
        "\n",
        "result = astar(PuzzleSolver(INITIAL))\n",
        "\n",
        "for i, (action, state) in enumerate(result.path()):\n",
        "    print()\n",
        "    if action is None:\n",
        "        print('Initial configuration')\n",
        "    elif i == len(result.path()) - 1:\n",
        "        print('After moving', action, 'into the empty space. Goal achieved!')\n",
        "    else:\n",
        "        print('After moving', action, 'into the empty space')\n",
        "    print(state)\n",
        ""
      ],
      "metadata": {
        "id": "qtq0k3PFnCR7",
        "outputId": "49493751-13d4-49a6-c9b1-18c967827d07",
        "colab": {
          "base_uri": "https://localhost:8080/"
        },
        "collapsed": true
      },
      "execution_count": 2,
      "outputs": [
        {
          "output_type": "stream",
          "name": "stdout",
          "text": [
            "\n",
            "Initial configuration\n",
            "2-8-3\n",
            "1-6-4\n",
            "7-e-5\n",
            "\n",
            "After moving 6 into the empty space\n",
            "2-8-3\n",
            "1-e-4\n",
            "7-6-5\n",
            "\n",
            "After moving 8 into the empty space\n",
            "2-e-3\n",
            "1-8-4\n",
            "7-6-5\n",
            "\n",
            "After moving 2 into the empty space\n",
            "e-2-3\n",
            "1-8-4\n",
            "7-6-5\n",
            "\n",
            "After moving 1 into the empty space\n",
            "1-2-3\n",
            "e-8-4\n",
            "7-6-5\n",
            "\n",
            "After moving 8 into the empty space. Goal achieved!\n",
            "1-2-3\n",
            "8-e-4\n",
            "7-6-5\n"
          ]
        }
      ]
    }
  ]
}