{
  "nbformat": 4,
  "nbformat_minor": 0,
  "metadata": {
    "colab": {
      "provenance": [],
      "authorship_tag": "ABX9TyMCGwnmGK99UrUVSZk06RWF",
      "include_colab_link": true
    },
    "kernelspec": {
      "name": "python3",
      "display_name": "Python 3"
    },
    "language_info": {
      "name": "python"
    }
  },
  "cells": [
    {
      "cell_type": "markdown",
      "metadata": {
        "id": "view-in-github",
        "colab_type": "text"
      },
      "source": [
        "<a href=\"https://colab.research.google.com/github/yeshitha-kuppireddy/workshop/blob/main/ailabinternal.ipynb\" target=\"_parent\"><img src=\"https://colab.research.google.com/assets/colab-badge.svg\" alt=\"Open In Colab\"/></a>"
      ]
    },
    {
      "cell_type": "code",
      "source": [
        "\n",
        "# Alpha-Beta Pruning:\n",
        "MAX, MIN = 1000, -1000\n",
        "\n",
        "def minimax_ab(depth, nodeIndex, maximizingPlayer, values, alpha, beta):\n",
        "    if depth == 3:\n",
        "        return values[nodeIndex]\n",
        "\n",
        "    if maximizingPlayer:\n",
        "        best = MIN\n",
        "        for i in range(2):\n",
        "            val = minimax_ab(depth + 1, nodeIndex * 2 + i, False, values, alpha, beta)\n",
        "            best = max(best, val)\n",
        "            alpha = max(alpha, best)\n",
        "            if beta <= alpha:\n",
        "                break\n",
        "        return best\n",
        "    else:\n",
        "        best = MAX\n",
        "        for i in range(2):\n",
        "            val = minimax_ab(depth + 1, nodeIndex * 2 + i, True, values, alpha, beta)\n",
        "            best = min(best, val)\n",
        "            beta = min(beta, best)\n",
        "            if beta <= alpha:\n",
        "                break\n",
        "        return best\n",
        "\n",
        "values = [9,1, 3, 2, 4, 2, 0, 1]\n",
        "print(\"The optimal value is: \", minimax_ab(0, 0, True, values, MIN, MAX))\n"
      ],
      "metadata": {
        "colab": {
          "base_uri": "https://localhost:8080/"
        },
        "id": "nrp5O3WxSZ3k",
        "outputId": "fb7d04e0-49a7-4c97-f3d7-89cec85fd371"
      },
      "execution_count": 14,
      "outputs": [
        {
          "output_type": "stream",
          "name": "stdout",
          "text": [
            "The optimal value is:  3\n"
          ]
        }
      ]
    }
  ]
}